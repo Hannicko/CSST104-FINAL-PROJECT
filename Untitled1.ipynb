{
  "nbformat": 4,
  "nbformat_minor": 0,
  "metadata": {
    "colab": {
      "provenance": [],
      "authorship_tag": "ABX9TyMIpv8bAptAJXOdrXNftZYK",
      "include_colab_link": true
    },
    "kernelspec": {
      "name": "python3",
      "display_name": "Python 3"
    },
    "language_info": {
      "name": "python"
    }
  },
  "cells": [
    {
      "cell_type": "markdown",
      "metadata": {
        "id": "view-in-github",
        "colab_type": "text"
      },
      "source": [
        "<a href=\"https://colab.research.google.com/github/Hannicko/subject101/blob/main/Untitled1.ipynb\" target=\"_parent\"><img src=\"https://colab.research.google.com/assets/colab-badge.svg\" alt=\"Open In Colab\"/></a>"
      ]
    },
    {
      "cell_type": "markdown",
      "source": [
        "1."
      ],
      "metadata": {
        "id": "UkR5H6DoWtI_"
      }
    },
    {
      "cell_type": "code",
      "source": [
        "#Data Manipulation\n",
        "import pandas as pd\n",
        "\n",
        "#For Data Visualization\n",
        "import matplotlib.pyplot as plt\n",
        "data = pd.read_csv('hardwareStore.csv')"
      ],
      "metadata": {
        "id": "zbTmb-6tWuxc"
      },
      "execution_count": null,
      "outputs": []
    },
    {
      "cell_type": "markdown",
      "source": [
        "2."
      ],
      "metadata": {
        "id": "iM1l4QULW9zT"
      }
    },
    {
      "cell_type": "code",
      "source": [
        "print (data)"
      ],
      "metadata": {
        "id": "odH1q7IlW-dh"
      },
      "execution_count": null,
      "outputs": []
    },
    {
      "cell_type": "code",
      "source": [
        "data_sum = data.sum\n",
        "data_mean = data.mean\n",
        "print (data_sum, data_mean)"
      ],
      "metadata": {
        "colab": {
          "base_uri": "https://localhost:8080/"
        },
        "id": "g84hvZ0ZXFiJ",
        "outputId": "c5dbf21f-c72a-44dc-da78-7c27fca026ea"
      },
      "execution_count": null,
      "outputs": [
        {
          "output_type": "stream",
          "name": "stdout",
          "text": [
            "<bound method NDFrame._add_numeric_operations.<locals>.sum of       CATEGORY_ID CATEGORY_NAME  PRODUCT_ID               PRODUCT_NAME  \\\n",
            "0               1           CPU           8      Intel Xeon E5-1650 V4   \n",
            "1               1           CPU           8      Intel Xeon E5-1650 V4   \n",
            "2               1           CPU           8      Intel Xeon E5-1650 V4   \n",
            "3               1           CPU           8      Intel Xeon E5-1650 V4   \n",
            "4               1           CPU           8      Intel Xeon E5-1650 V4   \n",
            "...           ...           ...         ...                        ...   \n",
            "1107            5       Storage         273  Western Digital WD101KRYZ   \n",
            "1108            5       Storage         273  Western Digital WD101KRYZ   \n",
            "1109            5       Storage         273  Western Digital WD101KRYZ   \n",
            "1110            5       Storage         273  Western Digital WD101KRYZ   \n",
            "1111            5       Storage         273  Western Digital WD101KRYZ   \n",
            "\n",
            "                                            DESCRIPTION  \\\n",
            "0                         Speed:3.6GHz,Cores:6,TDP:140W   \n",
            "1                         Speed:3.6GHz,Cores:6,TDP:140W   \n",
            "2                         Speed:3.6GHz,Cores:6,TDP:140W   \n",
            "3                         Speed:3.6GHz,Cores:6,TDP:140W   \n",
            "4                         Speed:3.6GHz,Cores:6,TDP:140W   \n",
            "...                                                 ...   \n",
            "1107  Series:Gold,Type:7200RPM,Capacity:10TB,Cache:2...   \n",
            "1108  Series:Gold,Type:7200RPM,Capacity:10TB,Cache:2...   \n",
            "1109  Series:Gold,Type:7200RPM,Capacity:10TB,Cache:2...   \n",
            "1110  Series:Gold,Type:7200RPM,Capacity:10TB,Cache:2...   \n",
            "1111  Series:Gold,Type:7200RPM,Capacity:10TB,Cache:2...   \n",
            "\n",
            "     DESCRIPTION - Detail 1 DESCRIPTION - Detail 2 DESCRIPTION - Detail 3  \\\n",
            "0              Speed:3.6GHz                Cores:6               TDP:140W   \n",
            "1              Speed:3.6GHz                Cores:6               TDP:140W   \n",
            "2              Speed:3.6GHz                Cores:6               TDP:140W   \n",
            "3              Speed:3.6GHz                Cores:6               TDP:140W   \n",
            "4              Speed:3.6GHz                Cores:6               TDP:140W   \n",
            "...                     ...                    ...                    ...   \n",
            "1107            Series:Gold           Type:7200RPM          Capacity:10TB   \n",
            "1108            Series:Gold           Type:7200RPM          Capacity:10TB   \n",
            "1109            Series:Gold           Type:7200RPM          Capacity:10TB   \n",
            "1110            Series:Gold           Type:7200RPM          Capacity:10TB   \n",
            "1111            Series:Gold           Type:7200RPM          Capacity:10TB   \n",
            "\n",
            "     DESCRIPTION - Detail 4  STANDARD_COST  ...  REGION_ID LOCATION_ID  \\\n",
            "0                       NaN         535.47  ...          3          11   \n",
            "1                       NaN         535.47  ...          3          12   \n",
            "2                       NaN         535.47  ...          2           6   \n",
            "3                       NaN         535.47  ...          2           8   \n",
            "4                       NaN         535.47  ...          3          13   \n",
            "...                     ...            ...  ...        ...         ...   \n",
            "1107            Cache:256MB         313.96  ...          2          23   \n",
            "1108            Cache:256MB         313.96  ...          3          11   \n",
            "1109            Cache:256MB         313.96  ...          2           6   \n",
            "1110            Cache:256MB         313.96  ...          2           9   \n",
            "1111            Cache:256MB         313.96  ...          3          13   \n",
            "\n",
            "      WAREHOUSE_ID  QUANTITY       WAREHOUSE_NAME                ADDRESS  \\\n",
            "0                8        50              Beijing    40-5-12 Laogianggen   \n",
            "1                9        36               Bombay     1298 Vileparle (E)   \n",
            "2                2        97        San Francisco    2011 Interiors Blvd   \n",
            "3                4        67  Seattle, Washington        2004 Charade Rd   \n",
            "4                6        30               Sydney  12-98 Victoria Street   \n",
            "...            ...       ...                  ...                    ...   \n",
            "1107             7       170          Mexico City  Mariano Escobedo 9991   \n",
            "1108             8       156              Beijing    40-5-12 Laogianggen   \n",
            "1109             2       264        San Francisco    2011 Interiors Blvd   \n",
            "1110             5       199              Toronto        147 Spadina Ave   \n",
            "1111             6       184               Sydney  12-98 Victoria Street   \n",
            "\n",
            "     POSTAL_CODE                 CITY            STATE  \\\n",
            "0         190518              Beijing         Shenzhen   \n",
            "1         490231               Bombay      Maharashtra   \n",
            "2          99236  South San Francisco       California   \n",
            "3          98199              Seattle       Washington   \n",
            "4           2901               Sydney  New South Wales   \n",
            "...          ...                  ...              ...   \n",
            "1107       11932            Monterrey       Nuevo León   \n",
            "1108      190518              Beijing         Shenzhen   \n",
            "1109       99236  South San Francisco       California   \n",
            "1110     M5V 2L7              Toronto          Ontario   \n",
            "1111        2901               Sydney  New South Wales   \n",
            "\n",
            "                  COUNTRY_NAME  \n",
            "0                        China  \n",
            "1                        India  \n",
            "2     United States of America  \n",
            "3     United States of America  \n",
            "4                    Australia  \n",
            "...                        ...  \n",
            "1107                    Mexico  \n",
            "1108                     China  \n",
            "1109  United States of America  \n",
            "1110                    Canada  \n",
            "1111                 Australia  \n",
            "\n",
            "[1112 rows x 22 columns]> <bound method NDFrame._add_numeric_operations.<locals>.mean of       CATEGORY_ID CATEGORY_NAME  PRODUCT_ID               PRODUCT_NAME  \\\n",
            "0               1           CPU           8      Intel Xeon E5-1650 V4   \n",
            "1               1           CPU           8      Intel Xeon E5-1650 V4   \n",
            "2               1           CPU           8      Intel Xeon E5-1650 V4   \n",
            "3               1           CPU           8      Intel Xeon E5-1650 V4   \n",
            "4               1           CPU           8      Intel Xeon E5-1650 V4   \n",
            "...           ...           ...         ...                        ...   \n",
            "1107            5       Storage         273  Western Digital WD101KRYZ   \n",
            "1108            5       Storage         273  Western Digital WD101KRYZ   \n",
            "1109            5       Storage         273  Western Digital WD101KRYZ   \n",
            "1110            5       Storage         273  Western Digital WD101KRYZ   \n",
            "1111            5       Storage         273  Western Digital WD101KRYZ   \n",
            "\n",
            "                                            DESCRIPTION  \\\n",
            "0                         Speed:3.6GHz,Cores:6,TDP:140W   \n",
            "1                         Speed:3.6GHz,Cores:6,TDP:140W   \n",
            "2                         Speed:3.6GHz,Cores:6,TDP:140W   \n",
            "3                         Speed:3.6GHz,Cores:6,TDP:140W   \n",
            "4                         Speed:3.6GHz,Cores:6,TDP:140W   \n",
            "...                                                 ...   \n",
            "1107  Series:Gold,Type:7200RPM,Capacity:10TB,Cache:2...   \n",
            "1108  Series:Gold,Type:7200RPM,Capacity:10TB,Cache:2...   \n",
            "1109  Series:Gold,Type:7200RPM,Capacity:10TB,Cache:2...   \n",
            "1110  Series:Gold,Type:7200RPM,Capacity:10TB,Cache:2...   \n",
            "1111  Series:Gold,Type:7200RPM,Capacity:10TB,Cache:2...   \n",
            "\n",
            "     DESCRIPTION - Detail 1 DESCRIPTION - Detail 2 DESCRIPTION - Detail 3  \\\n",
            "0              Speed:3.6GHz                Cores:6               TDP:140W   \n",
            "1              Speed:3.6GHz                Cores:6               TDP:140W   \n",
            "2              Speed:3.6GHz                Cores:6               TDP:140W   \n",
            "3              Speed:3.6GHz                Cores:6               TDP:140W   \n",
            "4              Speed:3.6GHz                Cores:6               TDP:140W   \n",
            "...                     ...                    ...                    ...   \n",
            "1107            Series:Gold           Type:7200RPM          Capacity:10TB   \n",
            "1108            Series:Gold           Type:7200RPM          Capacity:10TB   \n",
            "1109            Series:Gold           Type:7200RPM          Capacity:10TB   \n",
            "1110            Series:Gold           Type:7200RPM          Capacity:10TB   \n",
            "1111            Series:Gold           Type:7200RPM          Capacity:10TB   \n",
            "\n",
            "     DESCRIPTION - Detail 4  STANDARD_COST  ...  REGION_ID LOCATION_ID  \\\n",
            "0                       NaN         535.47  ...          3          11   \n",
            "1                       NaN         535.47  ...          3          12   \n",
            "2                       NaN         535.47  ...          2           6   \n",
            "3                       NaN         535.47  ...          2           8   \n",
            "4                       NaN         535.47  ...          3          13   \n",
            "...                     ...            ...  ...        ...         ...   \n",
            "1107            Cache:256MB         313.96  ...          2          23   \n",
            "1108            Cache:256MB         313.96  ...          3          11   \n",
            "1109            Cache:256MB         313.96  ...          2           6   \n",
            "1110            Cache:256MB         313.96  ...          2           9   \n",
            "1111            Cache:256MB         313.96  ...          3          13   \n",
            "\n",
            "      WAREHOUSE_ID  QUANTITY       WAREHOUSE_NAME                ADDRESS  \\\n",
            "0                8        50              Beijing    40-5-12 Laogianggen   \n",
            "1                9        36               Bombay     1298 Vileparle (E)   \n",
            "2                2        97        San Francisco    2011 Interiors Blvd   \n",
            "3                4        67  Seattle, Washington        2004 Charade Rd   \n",
            "4                6        30               Sydney  12-98 Victoria Street   \n",
            "...            ...       ...                  ...                    ...   \n",
            "1107             7       170          Mexico City  Mariano Escobedo 9991   \n",
            "1108             8       156              Beijing    40-5-12 Laogianggen   \n",
            "1109             2       264        San Francisco    2011 Interiors Blvd   \n",
            "1110             5       199              Toronto        147 Spadina Ave   \n",
            "1111             6       184               Sydney  12-98 Victoria Street   \n",
            "\n",
            "     POSTAL_CODE                 CITY            STATE  \\\n",
            "0         190518              Beijing         Shenzhen   \n",
            "1         490231               Bombay      Maharashtra   \n",
            "2          99236  South San Francisco       California   \n",
            "3          98199              Seattle       Washington   \n",
            "4           2901               Sydney  New South Wales   \n",
            "...          ...                  ...              ...   \n",
            "1107       11932            Monterrey       Nuevo León   \n",
            "1108      190518              Beijing         Shenzhen   \n",
            "1109       99236  South San Francisco       California   \n",
            "1110     M5V 2L7              Toronto          Ontario   \n",
            "1111        2901               Sydney  New South Wales   \n",
            "\n",
            "                  COUNTRY_NAME  \n",
            "0                        China  \n",
            "1                        India  \n",
            "2     United States of America  \n",
            "3     United States of America  \n",
            "4                    Australia  \n",
            "...                        ...  \n",
            "1107                    Mexico  \n",
            "1108                     China  \n",
            "1109  United States of America  \n",
            "1110                    Canada  \n",
            "1111                 Australia  \n",
            "\n",
            "[1112 rows x 22 columns]>\n"
          ]
        }
      ]
    }
  ]
}